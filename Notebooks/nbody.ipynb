{
 "cells": [
  {
   "cell_type": "code",
   "execution_count": 1,
   "metadata": {},
   "outputs": [],
   "source": [
    "import random as rand\n",
    "import numpy as np\n",
    "import matplotlib.pyplot as plt"
   ]
  },
  {
   "cell_type": "markdown",
   "metadata": {},
   "source": [
    "in Blender 3D view, 1 unit scale = 0.01 km ? need to confirm scaling."
   ]
  },
  {
   "cell_type": "code",
   "execution_count": 4,
   "metadata": {},
   "outputs": [],
   "source": [
    "class point:\n",
    "    def __init__(self, x,y,z):\n",
    "        self.x = x\n",
    "        self.y = y\n",
    "        self.z = z"
   ]
  },
  {
   "cell_type": "code",
   "execution_count": 115,
   "metadata": {},
   "outputs": [],
   "source": [
    "def calc_velocity(self, timestep):\n",
    "#         acceleration = \n",
    "    self.velocity.x += self.acceleration.x * timestep\n",
    "    self.velocity.y += self.acceleration.y * timestep\n",
    "    self.velocity.z += self.acceleration.z * timestep\n",
    "\n",
    "\n",
    "def update_loc(self, timestep):\n",
    "    self.location.x += self.velocity.x * timestep\n",
    "    self.location.y += self.velocity.y * timestep\n",
    "    self.location.z += self.velocity.y * timestep\n",
    "\n",
    "def advance_sim(self, timestep):\n",
    "    self.new_location = []\n",
    "    for i, body in enumerate(self.bodies):\n",
    "        body.update_loc(timestep)\n",
    "        self.new_location.append(body.location)\n",
    "    "
   ]
  },
  {
   "cell_type": "code",
   "execution_count": 95,
   "metadata": {},
   "outputs": [],
   "source": [
    "class body():\n",
    "    \"\"\"\n",
    "    initializing a body with mass, velocity, and location\n",
    "    \"\"\"\n",
    "    def __init__(self, location, mass, velocity, name=\"\"):\n",
    "        self.location=location\n",
    "        self.mass=mass\n",
    "        self.velocity=velocity\n",
    "#         self.radius=radius\n",
    "        self.name=name\n",
    "#gravitaional constant 6.67430 (± 0.00015) x 10^-11 kg-1 m3 s-2\n",
    "G=6.674e-20 #km3 kg-1 s-2\n",
    "def calculate_acceleration(bodies,ref_index):\n",
    "    \"\"\"\n",
    "    calculates the gravitational acceleration that the reference target body i\n",
    "    experiences due to the other perturbing bodies j\n",
    "    a_g = F_g/m_i = -Gm_j/r_ij^3 \n",
    "    \"\"\"\n",
    "    target=bodies[ref_index]\n",
    "    acceleration=point(0,0,0)\n",
    "    for other_index, body in enumerate(bodies):\n",
    "        if ref_index != other_index:\n",
    "            r = np.sqrt(((target.location.x -body.location.x)**2 + (target.location.y -body.location.y)**2 + (target.location.z -body.location.z)**2))\n",
    "            a_g = -G * body.mass / r**3\n",
    "            acceleration.x += a_g * (body.location.x-target.location.x) \n",
    "            acceleration.y += a_g * (body.location.y-target.location.y)\n",
    "            acceleration.z += a_g * (body.location.z-target.location.z)\n",
    "#     print(target.name,acceleration.y)\n",
    "    return acceleration   \n",
    "def calculate_velocity(bodies,timestep):\n",
    "    \"\"\"\n",
    "    calculates the velocity caused by the gravitational acceleration\n",
    "    \"\"\"\n",
    "     for ref_index, target in enumerate(bodies):\n",
    "            acceleration=calc_acceleration(bodies,ref_index)\n",
    "            target.velocity.x += target.acceleration.x * timestep\n",
    "            target.velocity.y += target.acceleration.y * timestep\n",
    "            target.velocity.z += target.acceleration.z * timestep\n",
    "            \n",
    "def update_location(bodies,timestep):\n",
    "    for target in bodies:\n",
    "        target.location.x += target.velocity.x * timestep\n",
    "        target.location.y += target.velocity.y * timestep\n",
    "        target.location.z += target.velocity.y * timestep\n",
    "\n",
    "def advance(bodies,timestep):\n",
    "#     new_loc =[]\n",
    "    for ref_index, target in enumerate(bodies):\n",
    "        calculate_acceleration(bodies,ref_index)\n",
    "        calculate_velocity(bodies,timestep)\n",
    "        target.update_location(bodies,timestep)\n",
    "        \n",
    "        "
   ]
  },
  {
   "cell_type": "code",
   "execution_count": 4,
   "metadata": {},
   "outputs": [
    {
     "ename": "NameError",
     "evalue": "name 'pos' is not defined",
     "output_type": "error",
     "traceback": [
      "\u001b[0;31m---------------------------------------------------------------------------\u001b[0m",
      "\u001b[0;31mNameError\u001b[0m                                 Traceback (most recent call last)",
      "\u001b[0;32m<ipython-input-4-149a41d65f3e>\u001b[0m in \u001b[0;36m<module>\u001b[0;34m()\u001b[0m\n\u001b[0;32m----> 1\u001b[0;31m \u001b[0msum\u001b[0m\u001b[0;34m(\u001b[0m\u001b[0mpos\u001b[0m\u001b[0;34m)\u001b[0m\u001b[0;34m\u001b[0m\u001b[0m\n\u001b[0m",
      "\u001b[0;31mNameError\u001b[0m: name 'pos' is not defined"
     ]
    }
   ],
   "source": [
    "sum(pos)"
   ]
  },
  {
   "cell_type": "code",
   "execution_count": 113,
   "metadata": {},
   "outputs": [
    {
     "ename": "NameError",
     "evalue": "name 'Float64' is not defined",
     "output_type": "error",
     "traceback": [
      "\u001b[0;31m---------------------------------------------------------------------------\u001b[0m",
      "\u001b[0;31mNameError\u001b[0m                                 Traceback (most recent call last)",
      "\u001b[0;32m<ipython-input-113-814e6ca07390>\u001b[0m in \u001b[0;36m<module>\u001b[0;34m()\u001b[0m\n\u001b[0;32m----> 1\u001b[0;31m \u001b[0mpos\u001b[0m\u001b[0;34m=\u001b[0m\u001b[0mnp\u001b[0m\u001b[0;34m.\u001b[0m\u001b[0marray\u001b[0m\u001b[0;34m(\u001b[0m\u001b[0;36m4\u001b[0m\u001b[0;34m,\u001b[0m\u001b[0;36m3\u001b[0m\u001b[0;34m,\u001b[0m \u001b[0mdatatype\u001b[0m\u001b[0;34m=\u001b[0m\u001b[0mFloat64\u001b[0m\u001b[0;34m)\u001b[0m\u001b[0;34m\u001b[0m\u001b[0m\n\u001b[0m\u001b[1;32m      2\u001b[0m \u001b[0;31m# positions r = [x,y,z] for all particles\u001b[0m\u001b[0;34m\u001b[0m\u001b[0;34m\u001b[0m\u001b[0m\n\u001b[1;32m      3\u001b[0m \u001b[0mx\u001b[0m \u001b[0;34m=\u001b[0m \u001b[0mpos\u001b[0m\u001b[0;34m[\u001b[0m\u001b[0;36m0\u001b[0m\u001b[0;34m]\u001b[0m\u001b[0;34m\u001b[0m\u001b[0m\n\u001b[1;32m      4\u001b[0m \u001b[0my\u001b[0m \u001b[0;34m=\u001b[0m \u001b[0mpos\u001b[0m\u001b[0;34m[\u001b[0m\u001b[0;36m1\u001b[0m\u001b[0;34m]\u001b[0m\u001b[0;34m\u001b[0m\u001b[0m\n\u001b[1;32m      5\u001b[0m \u001b[0mz\u001b[0m \u001b[0;34m=\u001b[0m \u001b[0mpos\u001b[0m\u001b[0;34m[\u001b[0m\u001b[0;36m2\u001b[0m\u001b[0;34m]\u001b[0m\u001b[0;34m\u001b[0m\u001b[0m\n",
      "\u001b[0;31mNameError\u001b[0m: name 'Float64' is not defined"
     ]
    }
   ],
   "source": [
    "pos=np.array(4,3)\n",
    "# positions r = [x,y,z] for all particles\n",
    "x = pos[0]\n",
    "y = pos[1]\n",
    "z = pos[2]\n",
    "\n",
    "# matrix that stores all pairwise particle separations: r_j - r_i\n",
    "dx = x.T - x\n",
    "dy = y.T - y\n",
    "dz = z.T - z\n"
   ]
  },
  {
   "cell_type": "code",
   "execution_count": 146,
   "metadata": {},
   "outputs": [
    {
     "data": {
      "text/plain": [
       "array([ 0.27898583,  0.07043014,  0.66433604])"
      ]
     },
     "execution_count": 146,
     "metadata": {},
     "output_type": "execute_result"
    }
   ],
   "source": [
    "r1=np.random.rand(3);r1\n",
    "r2=np.random.rand(3);r2\n",
    "r3=np.random.rand(3);r3"
   ]
  },
  {
   "cell_type": "code",
   "execution_count": 127,
   "metadata": {},
   "outputs": [
    {
     "data": {
      "text/plain": [
       "array([[ 0.,  0.,  0.],\n",
       "       [ 0.,  0.,  0.],\n",
       "       [ 0.,  0.,  0.]])"
      ]
     },
     "execution_count": 127,
     "metadata": {},
     "output_type": "execute_result"
    }
   ],
   "source": [
    "pos=np.zeros((3,3));pos"
   ]
  },
  {
   "cell_type": "code",
   "execution_count": 149,
   "metadata": {},
   "outputs": [
    {
     "data": {
      "text/plain": [
       "array([[ 0.35392876,  0.23472561,  0.48376597],\n",
       "       [ 0.23602001,  0.51476951,  0.43839126],\n",
       "       [ 0.27898583,  0.07043014,  0.66433604]])"
      ]
     },
     "execution_count": 149,
     "metadata": {},
     "output_type": "execute_result"
    }
   ],
   "source": [
    "pos[0,:],pos[1,:],pos[2,:]=r1,r2,r3\n",
    "pos"
   ]
  },
  {
   "cell_type": "code",
   "execution_count": 161,
   "metadata": {},
   "outputs": [
    {
     "data": {
      "text/plain": [
       "array([[ 0.48376597],\n",
       "       [ 0.43839126],\n",
       "       [ 0.66433604]])"
      ]
     },
     "execution_count": 161,
     "metadata": {},
     "output_type": "execute_result"
    }
   ],
   "source": [
    "x,y,z=pos[:,0:1],pos[:,1:2],pos[:,2:3]\n",
    "z"
   ]
  },
  {
   "cell_type": "code",
   "execution_count": 169,
   "metadata": {},
   "outputs": [
    {
     "data": {
      "text/plain": [
       "array([ 0.48376597,  0.43839126,  0.66433604])"
      ]
     },
     "execution_count": 169,
     "metadata": {},
     "output_type": "execute_result"
    }
   ],
   "source": [
    "pos[:,2]"
   ]
  },
  {
   "cell_type": "code",
   "execution_count": 167,
   "metadata": {},
   "outputs": [
    {
     "data": {
      "text/plain": [
       "array([[ 0.48376597,  0.43839126,  0.66433604]])"
      ]
     },
     "execution_count": 167,
     "metadata": {},
     "output_type": "execute_result"
    }
   ],
   "source": [
    "z.T"
   ]
  },
  {
   "cell_type": "code",
   "execution_count": 168,
   "metadata": {},
   "outputs": [
    {
     "data": {
      "text/plain": [
       "array([[ 0.        , -0.04537471,  0.18057006],\n",
       "       [ 0.04537471,  0.        ,  0.22594477],\n",
       "       [-0.18057006, -0.22594477,  0.        ]])"
      ]
     },
     "execution_count": 168,
     "metadata": {},
     "output_type": "execute_result"
    }
   ],
   "source": [
    "z.T - z"
   ]
  },
  {
   "cell_type": "code",
   "execution_count": 162,
   "metadata": {},
   "outputs": [],
   "source": [
    "dx = x.T - x\n",
    "dy = y.T - y\n",
    "dz = z.T - z"
   ]
  },
  {
   "cell_type": "code",
   "execution_count": 105,
   "metadata": {},
   "outputs": [
    {
     "ename": "NameError",
     "evalue": "name 'x' is not defined",
     "output_type": "error",
     "traceback": [
      "\u001b[0;31m---------------------------------------------------------------------------\u001b[0m",
      "\u001b[0;31mNameError\u001b[0m                                 Traceback (most recent call last)",
      "\u001b[0;32m<ipython-input-105-f0e914997717>\u001b[0m in \u001b[0;36m<module>\u001b[0;34m()\u001b[0m\n\u001b[1;32m      9\u001b[0m         \u001b[0mm\u001b[0m\u001b[0;34m=\u001b[0m\u001b[0;34m(\u001b[0m\u001b[0;36m5\u001b[0m\u001b[0;34m,\u001b[0m\u001b[0;36m3\u001b[0m\u001b[0;34m,\u001b[0m\u001b[0;36m2\u001b[0m\u001b[0;34m)\u001b[0m\u001b[0;34m\u001b[0m\u001b[0m\n\u001b[1;32m     10\u001b[0m         \u001b[0;32mif\u001b[0m \u001b[0mi\u001b[0m \u001b[0;34m!=\u001b[0m \u001b[0mj\u001b[0m\u001b[0;34m:\u001b[0m\u001b[0;34m\u001b[0m\u001b[0m\n\u001b[0;32m---> 11\u001b[0;31m             \u001b[0mr\u001b[0m\u001b[0;34m[\u001b[0m\u001b[0mi\u001b[0m\u001b[0;34m,\u001b[0m\u001b[0mj\u001b[0m\u001b[0;34m]\u001b[0m\u001b[0;34m=\u001b[0m\u001b[0mnp\u001b[0m\u001b[0;34m.\u001b[0m\u001b[0msqrt\u001b[0m\u001b[0;34m(\u001b[0m\u001b[0;34m(\u001b[0m\u001b[0mx\u001b[0m\u001b[0;34m[\u001b[0m\u001b[0mi\u001b[0m\u001b[0;34m]\u001b[0m\u001b[0;34m-\u001b[0m\u001b[0mx\u001b[0m\u001b[0;34m[\u001b[0m\u001b[0mj\u001b[0m\u001b[0;34m]\u001b[0m\u001b[0;34m**\u001b[0m\u001b[0;36m2\u001b[0m\u001b[0;34m)\u001b[0m \u001b[0;34m+\u001b[0m \u001b[0;34m(\u001b[0m\u001b[0my\u001b[0m\u001b[0;34m[\u001b[0m\u001b[0mi\u001b[0m\u001b[0;34m]\u001b[0m\u001b[0;34m+\u001b[0m\u001b[0my\u001b[0m\u001b[0;34m[\u001b[0m\u001b[0mj\u001b[0m\u001b[0;34m]\u001b[0m\u001b[0;34m**\u001b[0m\u001b[0;36m2\u001b[0m\u001b[0;34m)\u001b[0m \u001b[0;34m+\u001b[0m \u001b[0;34m(\u001b[0m\u001b[0mz\u001b[0m\u001b[0;34m[\u001b[0m\u001b[0mi\u001b[0m\u001b[0;34m]\u001b[0m\u001b[0;34m+\u001b[0m\u001b[0mz\u001b[0m\u001b[0;34m[\u001b[0m\u001b[0mj\u001b[0m\u001b[0;34m]\u001b[0m\u001b[0;34m**\u001b[0m\u001b[0;36m2\u001b[0m\u001b[0;34m)\u001b[0m\u001b[0;34m)\u001b[0m\u001b[0;34m\u001b[0m\u001b[0m\n\u001b[0m\u001b[1;32m     12\u001b[0m             \u001b[0ma_g\u001b[0m\u001b[0;34m=\u001b[0m\u001b[0mm\u001b[0m\u001b[0;34m[\u001b[0m\u001b[0mj\u001b[0m\u001b[0;34m]\u001b[0m \u001b[0;34m/\u001b[0m\u001b[0mr\u001b[0m\u001b[0;34m[\u001b[0m\u001b[0mi\u001b[0m\u001b[0;34m,\u001b[0m\u001b[0mj\u001b[0m\u001b[0;34m]\u001b[0m\u001b[0;34m**\u001b[0m\u001b[0;36m3\u001b[0m \u001b[0;31m#times G\u001b[0m\u001b[0;34m\u001b[0m\u001b[0m\n\u001b[1;32m     13\u001b[0m             \u001b[0max\u001b[0m\u001b[0;34m+=\u001b[0m\u001b[0mconst\u001b[0m \u001b[0;34m*\u001b[0m \u001b[0;34m(\u001b[0m\u001b[0mx\u001b[0m\u001b[0;34m[\u001b[0m\u001b[0mj\u001b[0m\u001b[0;34m]\u001b[0m\u001b[0;34m-\u001b[0m\u001b[0mx\u001b[0m\u001b[0;34m[\u001b[0m\u001b[0mi\u001b[0m\u001b[0;34m]\u001b[0m\u001b[0;34m)\u001b[0m\u001b[0;34m\u001b[0m\u001b[0m\n",
      "\u001b[0;31mNameError\u001b[0m: name 'x' is not defined"
     ]
    }
   ],
   "source": [
    "r=np.zeros((3,3))\n",
    "m=np.zeros(3)\n",
    "a=np.zeros((3,3))\n",
    "G_const = 6.67408e-11 #m3 kg-1 s-2\n",
    "# acceleration = point(0,0,0)\n",
    "a=0\n",
    "for i in range(1,3):\n",
    "    for j in range(1,3):\n",
    "        m=(5,3,2)\n",
    "        if i != j:\n",
    "            r[i,j]=np.sqrt((x[i]-x[j]**2) + (y[i]+y[j]**2) + (z[i]+z[j]**2))\n",
    "            a_g=m[j] /r[i,j]**3 #times G\n",
    "            ax+=const * (x[j]-x[i])\n",
    "            ay+=const * (y[j]-y[i])\n",
    "            az+=const * (z[j]-z[i])\n",
    "#             a[i,j]=\n",
    "# return "
   ]
  },
  {
   "cell_type": "markdown",
   "metadata": {},
   "source": [
    "### Testing"
   ]
  },
  {
   "cell_type": "code",
   "execution_count": 7,
   "metadata": {},
   "outputs": [],
   "source": [
    "#planet data (location (m), mass (kg), velocity (m/s)\n",
    "sun = {\"location\":point(0,0,0), \"mass\":2e30, \"velocity\":point(0,0,0)}\n",
    "mercury = {\"location\":point(0,5.7e10,0), \"mass\":3.285e23, \"velocity\":point(47000,0,0)}\n",
    "venus = {\"location\":point(0,1.1e11,0), \"mass\":4.8e24, \"velocity\":point(35000,0,0)}\n",
    "earth = {\"location\":point(0,1.5e11,0), \"mass\":6e24, \"velocity\":point(30000,0,0)}\n",
    "mars = {\"location\":point(0,2.2e11,0), \"mass\":2.4e24, \"velocity\":point(24000,0,0)}\n",
    "# jupiter = {\"location\":point(0,7.7e11,0), \"mass\":1e28, \"velocity\":point(13000,0,0)}\n",
    "# saturn = {\"location\":point(0,1.4e12,0), \"mass\":5.7e26, \"velocity\":point(9000,0,0)}\n",
    "# uranus = {\"location\":point(0,2.8e12,0), \"mass\":8.7e25, \"velocity\":point(6835,0,0)}\n",
    "# neptune = {\"location\":point(0,4.5e12,0), \"mass\":1e26, \"velocity\":point(5477,0,0)}\n",
    "# pluto = {\"location\":point(0,3.7e12,0), \"mass\":1.3e22, \"velocity\":point(4748,0,0)}\n",
    "\n",
    "if __name__ == \"__main__\":\n",
    "\n",
    "    #build list of planets in the simulation, or create your own\n",
    "    bodies = [\n",
    "        body( location = sun[\"location\"], mass = sun[\"mass\"], velocity = sun[\"velocity\"], name = \"sun\"),\n",
    "        body( location = earth[\"location\"], mass = earth[\"mass\"], velocity = earth[\"velocity\"], name = \"earth\"),\n",
    "        body( location = mars[\"location\"], mass = mars[\"mass\"], velocity = mars[\"velocity\"], name = \"mars\"),\n",
    "        body( location = venus[\"location\"], mass = venus[\"mass\"], velocity = venus[\"velocity\"], name = \"venus\"),\n",
    "        ]\n",
    "    "
   ]
  },
  {
   "cell_type": "code",
   "execution_count": 20,
   "metadata": {},
   "outputs": [
    {
     "data": {
      "text/plain": [
       "[(0, <__main__.body at 0x108633e48>),\n",
       " (1, <__main__.body at 0x108633ef0>),\n",
       " (2, <__main__.body at 0x108633f28>),\n",
       " (3, <__main__.body at 0x108633f60>)]"
      ]
     },
     "execution_count": 20,
     "metadata": {},
     "output_type": "execute_result"
    }
   ],
   "source": [
    "list(enumerate(bodies))"
   ]
  },
  {
   "cell_type": "code",
   "execution_count": 19,
   "metadata": {},
   "outputs": [],
   "source": [
    "def create_sphere(radius, distance_to_sun, obj_name):\n",
    "    # instantiate a UV sphere with a given\n",
    "    # radius, at a given distance from the\n",
    "    # world origin point\n",
    "    bpy.ops.mesh.primitive_uv_sphere_add(\n",
    "        radius=radius,\n",
    "        location=(distance_to_sun, 0, 0),\n",
    "        scale=(1, 1, 1)\n",
    "    )\n",
    "    # get object\n",
    "    obj = bpy.context.object\n",
    "    # rename the object\n",
    "    obj.name = obj_name\n",
    "    # return the object reference\n",
    "    return obj\n",
    "\n",
    "# def add_sphere(name, location):\n",
    "#     \"\"\"Add smooth sphere to current scene at given location\n",
    "#     name -- name for new sphere\n",
    "#     location -- location for the new sphere\n",
    "#     \"\"\"\n",
    "#     # add object\n",
    "# #     bpy.ops.mesh.primitive_uv_sphere_add(\n",
    "# #         segments=48, ring_count=24, size=1.0,\n",
    "# #         location=location, rotation=[0,0,0])\n",
    "#     # get object\n",
    "#     obj = bpy.context.object\n",
    "#     # set name and smooth shading\n",
    "#     obj.name = name\n",
    "#     bpy.ops.object.shade_smooth()\n",
    "       \n",
    "# #     print(\"Sphere '%s' created.\" % name)\n",
    "   \n",
    "#     return obj"
   ]
  },
  {
   "cell_type": "code",
   "execution_count": null,
   "metadata": {},
   "outputs": [],
   "source": []
  }
 ],
 "metadata": {
  "anaconda-cloud": {},
  "kernelspec": {
   "display_name": "Python [default]",
   "language": "python",
   "name": "python3"
  },
  "language_info": {
   "codemirror_mode": {
    "name": "ipython",
    "version": 3
   },
   "file_extension": ".py",
   "mimetype": "text/x-python",
   "name": "python",
   "nbconvert_exporter": "python",
   "pygments_lexer": "ipython3",
   "version": "3.5.6"
  }
 },
 "nbformat": 4,
 "nbformat_minor": 2
}
