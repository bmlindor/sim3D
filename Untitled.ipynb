{
 "cells": [
  {
   "cell_type": "code",
   "execution_count": 21,
   "metadata": {},
   "outputs": [],
   "source": [
    "import random as rand\n",
    "import numpy as np"
   ]
  },
  {
   "cell_type": "code",
   "execution_count": 214,
   "metadata": {},
   "outputs": [],
   "source": [
    "#in Blender 3D view, 1 unit scale = 0.01 km\n",
    "class point:\n",
    "    def __init__(self, x,y,z):\n",
    "        self.x = x\n",
    "        self.y = y\n",
    "        self.z = z\n",
    "        \n",
    "class body():\n",
    "    #initializing a body with mass, velocity, and radius\n",
    "    def __init__(self, location, mass, velocity, name=\"\"):\n",
    "        self.location=location\n",
    "        self.mass=mass\n",
    "        self.velocity=velocity\n",
    "#         self.radius=radius\n",
    "        self.name=name\n",
    "    \n",
    "#     def calc_acceleration(bodies, body_index):\n",
    "#         #gravitaional constant 6.67430 (± 0.00015) x 10^-11 kg-1 m3 s-2\n",
    "#         G=6.674e-20 #km3 kg-1 s-2\n",
    "#         target = bodies[body_index]\n",
    "#         acceleration=point(0,0,0)\n",
    "#         for body in enumerate(bodies):\n",
    "#             if body_index != index\n",
    "        \n",
    "    def calc_velocity(self, timestep):\n",
    "        self.velocity.x += self.acceleration.x * timestep\n",
    "        self.velocity.y += self.acceleration.y * timestep\n",
    "        self.velocity.z += self.acceleration.z * timestep\n",
    "        \n",
    "        \n",
    "    def update_location(self, timestep):\n",
    "        self.location.x += self.velocity.x * timestep\n",
    "        self.location.y += self.velocity.y * timestep\n",
    "        self.location.z += self.velocity.y * timestep"
   ]
  },
  {
   "cell_type": "code",
   "execution_count": 49,
   "metadata": {},
   "outputs": [
    {
     "ename": "TypeError",
     "evalue": "data type not understood",
     "output_type": "error",
     "traceback": [
      "\u001b[0;31m---------------------------------------------------------------------------\u001b[0m",
      "\u001b[0;31mTypeError\u001b[0m                                 Traceback (most recent call last)",
      "\u001b[0;32m<ipython-input-49-cf7bde1a95fe>\u001b[0m in \u001b[0;36m<module>\u001b[0;34m()\u001b[0m\n\u001b[0;32m----> 1\u001b[0;31m \u001b[0mpos\u001b[0m\u001b[0;34m=\u001b[0m\u001b[0mnp\u001b[0m\u001b[0;34m.\u001b[0m\u001b[0marray\u001b[0m\u001b[0;34m(\u001b[0m\u001b[0;36m4\u001b[0m\u001b[0;34m,\u001b[0m\u001b[0;36m3\u001b[0m\u001b[0;34m)\u001b[0m\u001b[0;34m\u001b[0m\u001b[0m\n\u001b[0m\u001b[1;32m      2\u001b[0m \u001b[0;31m# positions r = [x,y,z] for all particles\u001b[0m\u001b[0;34m\u001b[0m\u001b[0;34m\u001b[0m\u001b[0m\n\u001b[1;32m      3\u001b[0m \u001b[0mx\u001b[0m \u001b[0;34m=\u001b[0m \u001b[0mpos\u001b[0m\u001b[0;34m[\u001b[0m\u001b[0;36m0\u001b[0m\u001b[0;34m]\u001b[0m\u001b[0;34m\u001b[0m\u001b[0m\n\u001b[1;32m      4\u001b[0m \u001b[0my\u001b[0m \u001b[0;34m=\u001b[0m \u001b[0mpos\u001b[0m\u001b[0;34m[\u001b[0m\u001b[0;36m1\u001b[0m\u001b[0;34m]\u001b[0m\u001b[0;34m\u001b[0m\u001b[0m\n\u001b[1;32m      5\u001b[0m \u001b[0mz\u001b[0m \u001b[0;34m=\u001b[0m \u001b[0mpos\u001b[0m\u001b[0;34m[\u001b[0m\u001b[0;36m2\u001b[0m\u001b[0;34m]\u001b[0m\u001b[0;34m\u001b[0m\u001b[0m\n",
      "\u001b[0;31mTypeError\u001b[0m: data type not understood"
     ]
    }
   ],
   "source": [
    "pos=np.array(4,3)\n",
    "# positions r = [x,y,z] for all particles\n",
    "x = pos[0]\n",
    "y = pos[1]\n",
    "z = pos[2]\n",
    "\n",
    "# matrix that stores all pairwise particle separations: r_j - r_i\n",
    "dx = x.T - x\n",
    "dy = y.T - y\n",
    "dz = z.T - z\n"
   ]
  },
  {
   "cell_type": "code",
   "execution_count": 146,
   "metadata": {},
   "outputs": [
    {
     "data": {
      "text/plain": [
       "array([ 0.27898583,  0.07043014,  0.66433604])"
      ]
     },
     "execution_count": 146,
     "metadata": {},
     "output_type": "execute_result"
    }
   ],
   "source": [
    "r1=np.random.rand(3);r1\n",
    "r2=np.random.rand(3);r2\n",
    "r3=np.random.rand(3);r3"
   ]
  },
  {
   "cell_type": "code",
   "execution_count": 127,
   "metadata": {},
   "outputs": [
    {
     "data": {
      "text/plain": [
       "array([[ 0.,  0.,  0.],\n",
       "       [ 0.,  0.,  0.],\n",
       "       [ 0.,  0.,  0.]])"
      ]
     },
     "execution_count": 127,
     "metadata": {},
     "output_type": "execute_result"
    }
   ],
   "source": [
    "pos=np.zeros((3,3));pos"
   ]
  },
  {
   "cell_type": "code",
   "execution_count": 149,
   "metadata": {},
   "outputs": [
    {
     "data": {
      "text/plain": [
       "array([[ 0.35392876,  0.23472561,  0.48376597],\n",
       "       [ 0.23602001,  0.51476951,  0.43839126],\n",
       "       [ 0.27898583,  0.07043014,  0.66433604]])"
      ]
     },
     "execution_count": 149,
     "metadata": {},
     "output_type": "execute_result"
    }
   ],
   "source": [
    "pos[0,:],pos[1,:],pos[2,:]=r1,r2,r3\n",
    "pos"
   ]
  },
  {
   "cell_type": "code",
   "execution_count": 161,
   "metadata": {},
   "outputs": [
    {
     "data": {
      "text/plain": [
       "array([[ 0.48376597],\n",
       "       [ 0.43839126],\n",
       "       [ 0.66433604]])"
      ]
     },
     "execution_count": 161,
     "metadata": {},
     "output_type": "execute_result"
    }
   ],
   "source": [
    "x,y,z=pos[:,0:1],pos[:,1:2],pos[:,2:3]\n",
    "z"
   ]
  },
  {
   "cell_type": "code",
   "execution_count": 169,
   "metadata": {},
   "outputs": [
    {
     "data": {
      "text/plain": [
       "array([ 0.48376597,  0.43839126,  0.66433604])"
      ]
     },
     "execution_count": 169,
     "metadata": {},
     "output_type": "execute_result"
    }
   ],
   "source": [
    "pos[:,2]"
   ]
  },
  {
   "cell_type": "code",
   "execution_count": 167,
   "metadata": {},
   "outputs": [
    {
     "data": {
      "text/plain": [
       "array([[ 0.48376597,  0.43839126,  0.66433604]])"
      ]
     },
     "execution_count": 167,
     "metadata": {},
     "output_type": "execute_result"
    }
   ],
   "source": [
    "z.T"
   ]
  },
  {
   "cell_type": "code",
   "execution_count": 168,
   "metadata": {},
   "outputs": [
    {
     "data": {
      "text/plain": [
       "array([[ 0.        , -0.04537471,  0.18057006],\n",
       "       [ 0.04537471,  0.        ,  0.22594477],\n",
       "       [-0.18057006, -0.22594477,  0.        ]])"
      ]
     },
     "execution_count": 168,
     "metadata": {},
     "output_type": "execute_result"
    }
   ],
   "source": [
    "z.T - z"
   ]
  },
  {
   "cell_type": "code",
   "execution_count": 162,
   "metadata": {},
   "outputs": [],
   "source": [
    "dx = x.T - x\n",
    "dy = y.T - y\n",
    "dz = z.T - z"
   ]
  },
  {
   "cell_type": "code",
   "execution_count": 208,
   "metadata": {},
   "outputs": [
    {
     "ename": "TypeError",
     "evalue": "'int' object does not support item assignment",
     "output_type": "error",
     "traceback": [
      "\u001b[0;31m---------------------------------------------------------------------------\u001b[0m",
      "\u001b[0;31mTypeError\u001b[0m                                 Traceback (most recent call last)",
      "\u001b[0;32m<ipython-input-208-be2b60059662>\u001b[0m in \u001b[0;36m<module>\u001b[0;34m()\u001b[0m\n\u001b[1;32m     14\u001b[0m             \u001b[0may\u001b[0m\u001b[0;34m+=\u001b[0m\u001b[0mconst\u001b[0m \u001b[0;34m*\u001b[0m \u001b[0;34m(\u001b[0m\u001b[0my\u001b[0m\u001b[0;34m[\u001b[0m\u001b[0mj\u001b[0m\u001b[0;34m]\u001b[0m\u001b[0;34m-\u001b[0m\u001b[0my\u001b[0m\u001b[0;34m[\u001b[0m\u001b[0mi\u001b[0m\u001b[0;34m]\u001b[0m\u001b[0;34m)\u001b[0m\u001b[0;34m\u001b[0m\u001b[0m\n\u001b[1;32m     15\u001b[0m             \u001b[0maz\u001b[0m\u001b[0;34m+=\u001b[0m\u001b[0mconst\u001b[0m \u001b[0;34m*\u001b[0m \u001b[0;34m(\u001b[0m\u001b[0mz\u001b[0m\u001b[0;34m[\u001b[0m\u001b[0mj\u001b[0m\u001b[0;34m]\u001b[0m\u001b[0;34m-\u001b[0m\u001b[0mz\u001b[0m\u001b[0;34m[\u001b[0m\u001b[0mi\u001b[0m\u001b[0;34m]\u001b[0m\u001b[0;34m)\u001b[0m\u001b[0;34m\u001b[0m\u001b[0m\n\u001b[0;32m---> 16\u001b[0;31m             \u001b[0ma\u001b[0m\u001b[0;34m[\u001b[0m\u001b[0mi\u001b[0m\u001b[0;34m,\u001b[0m\u001b[0mj\u001b[0m\u001b[0;34m]\u001b[0m\u001b[0;34m=\u001b[0m\u001b[0max\u001b[0m\u001b[0;34m,\u001b[0m\u001b[0may\u001b[0m\u001b[0;34m,\u001b[0m\u001b[0maz\u001b[0m\u001b[0;34m\u001b[0m\u001b[0m\n\u001b[0m\u001b[1;32m     17\u001b[0m \u001b[0;31m# return\u001b[0m\u001b[0;34m\u001b[0m\u001b[0;34m\u001b[0m\u001b[0m\n",
      "\u001b[0;31mTypeError\u001b[0m: 'int' object does not support item assignment"
     ]
    }
   ],
   "source": [
    "r=np.zeros((3,3))\n",
    "m=np.zeros(3)\n",
    "a=np.zeros((3,3))\n",
    "G_const = 6.67408e-11 #m3 kg-1 s-2\n",
    "# acceleration = point(0,0,0)\n",
    "a=0\n",
    "for i in range(1,3):\n",
    "    for j in range(1,3):\n",
    "        m=(5,3,2)\n",
    "        if i != j:\n",
    "            r[i,j]=np.sqrt((x[i]-x[j]**2) + (y[i]+y[j]**2) + (z[i]+z[j]**2))\n",
    "            const=m[j] /r[i,j]**3 #times G\n",
    "            ax+=const * (x[j]-x[i])\n",
    "            ay+=const * (y[j]-y[i])\n",
    "            az+=const * (z[j]-z[i])\n",
    "            a[i,j]=\n",
    "# return "
   ]
  },
  {
   "cell_type": "code",
   "execution_count": null,
   "metadata": {},
   "outputs": [],
   "source": []
  },
  {
   "cell_type": "code",
   "execution_count": 216,
   "metadata": {},
   "outputs": [],
   "source": [
    "#planet data (location (m), mass (kg), velocity (m/s)\n",
    "sun = {\"location\":point(0,0,0), \"mass\":2e30, \"velocity\":point(0,0,0)}\n",
    "mercury = {\"location\":point(0,5.7e10,0), \"mass\":3.285e23, \"velocity\":point(47000,0,0)}\n",
    "venus = {\"location\":point(0,1.1e11,0), \"mass\":4.8e24, \"velocity\":point(35000,0,0)}\n",
    "earth = {\"location\":point(0,1.5e11,0), \"mass\":6e24, \"velocity\":point(30000,0,0)}\n",
    "mars = {\"location\":point(0,2.2e11,0), \"mass\":2.4e24, \"velocity\":point(24000,0,0)}\n",
    "# jupiter = {\"location\":point(0,7.7e11,0), \"mass\":1e28, \"velocity\":point(13000,0,0)}\n",
    "# saturn = {\"location\":point(0,1.4e12,0), \"mass\":5.7e26, \"velocity\":point(9000,0,0)}\n",
    "# uranus = {\"location\":point(0,2.8e12,0), \"mass\":8.7e25, \"velocity\":point(6835,0,0)}\n",
    "# neptune = {\"location\":point(0,4.5e12,0), \"mass\":1e26, \"velocity\":point(5477,0,0)}\n",
    "# pluto = {\"location\":point(0,3.7e12,0), \"mass\":1.3e22, \"velocity\":point(4748,0,0)}\n",
    "\n",
    "if __name__ == \"__main__\":\n",
    "\n",
    "    #build list of planets in the simulation, or create your own\n",
    "    bodies = [\n",
    "        sphere( location = sun[\"location\"], mass = sun[\"mass\"], velocity = sun[\"velocity\"], name = \"sun\"),\n",
    "        sphere( location = earth[\"location\"], mass = earth[\"mass\"], velocity = earth[\"velocity\"], name = \"earth\"),\n",
    "        sphere( location = mars[\"location\"], mass = mars[\"mass\"], velocity = mars[\"velocity\"], name = \"mars\"),\n",
    "        sphere( location = venus[\"location\"], mass = venus[\"mass\"], velocity = venus[\"velocity\"], name = \"venus\"),\n",
    "        ]\n",
    "    "
   ]
  },
  {
   "cell_type": "code",
   "execution_count": null,
   "metadata": {},
   "outputs": [],
   "source": [
    "def create_sphere(radius, distance_to_sun, obj_name):\n",
    "    # instantiate a UV sphere with a given\n",
    "    # radius, at a given distance from the\n",
    "    # world origin point\n",
    "    bpy.ops.mesh.primitive_uv_sphere_add(\n",
    "        radius=radius,\n",
    "        location=(distance_to_sun, 0, 0),\n",
    "        scale=(1, 1, 1)\n",
    "    )\n",
    "    # get object\n",
    "    obj = bpy.context.object\n",
    "    # rename the object\n",
    "    obj.name = obj_name\n",
    "    # return the object reference\n",
    "    return obj\n",
    "\n",
    "# def add_sphere(name, location):\n",
    "#     \"\"\"Add smooth sphere to current scene at given location\n",
    "#     name -- name for new sphere\n",
    "#     location -- location for the new sphere\n",
    "#     \"\"\"\n",
    "#     # add object\n",
    "# #     bpy.ops.mesh.primitive_uv_sphere_add(\n",
    "# #         segments=48, ring_count=24, size=1.0,\n",
    "# #         location=location, rotation=[0,0,0])\n",
    "#     # get object\n",
    "#     obj = bpy.context.object\n",
    "#     # set name and smooth shading\n",
    "#     obj.name = name\n",
    "#     bpy.ops.object.shade_smooth()\n",
    "       \n",
    "# #     print(\"Sphere '%s' created.\" % name)\n",
    "   \n",
    "#     return obj"
   ]
  }
 ],
 "metadata": {
  "anaconda-cloud": {},
  "kernelspec": {
   "display_name": "Python [default]",
   "language": "python",
   "name": "python3"
  },
  "language_info": {
   "codemirror_mode": {
    "name": "ipython",
    "version": 3
   },
   "file_extension": ".py",
   "mimetype": "text/x-python",
   "name": "python",
   "nbconvert_exporter": "python",
   "pygments_lexer": "ipython3",
   "version": "3.5.6"
  }
 },
 "nbformat": 4,
 "nbformat_minor": 2
}
